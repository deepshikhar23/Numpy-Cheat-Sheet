{
  "nbformat": 4,
  "nbformat_minor": 0,
  "metadata": {
    "colab": {
      "provenance": []
    },
    "kernelspec": {
      "name": "python3",
      "display_name": "Python 3"
    },
    "language_info": {
      "name": "python"
    }
  },
  "cells": [
    {
      "cell_type": "code",
      "source": [
        "import numpy as np"
      ],
      "metadata": {
        "id": "vq0oswugax4R"
      },
      "execution_count": null,
      "outputs": []
    },
    {
      "cell_type": "code",
      "source": [
        "# Create an array from a list\n",
        "arr = np.array([1, 2, 3])"
      ],
      "metadata": {
        "id": "n642vQpgfHI7"
      },
      "execution_count": null,
      "outputs": []
    },
    {
      "cell_type": "code",
      "source": [
        "# Create an array of zeros\n",
        "arr = np.zeros((3, 4))"
      ],
      "metadata": {
        "id": "MQRZ_DIpfL7n"
      },
      "execution_count": null,
      "outputs": []
    },
    {
      "cell_type": "code",
      "source": [
        "# Create an array of ones\n",
        "arr = np.ones((2, 3, 4))"
      ],
      "metadata": {
        "id": "4VFUZoyBfO4_"
      },
      "execution_count": null,
      "outputs": []
    },
    {
      "cell_type": "code",
      "source": [
        "# Create an array with a specific value\n",
        "arr = np.full((3, 3), 5)"
      ],
      "metadata": {
        "id": "7AWCFYkffR1l"
      },
      "execution_count": null,
      "outputs": []
    },
    {
      "cell_type": "code",
      "source": [
        "# Create an array with random values\n",
        "arr = np.random.rand(2, 3)"
      ],
      "metadata": {
        "id": "xJNeT393fU1H"
      },
      "execution_count": null,
      "outputs": []
    },
    {
      "cell_type": "code",
      "source": [
        "# Create an array of evenly spaced values\n",
        "arr = np.arange(0, 10, 2)"
      ],
      "metadata": {
        "id": "xojEB3tkfWwS"
      },
      "execution_count": null,
      "outputs": []
    },
    {
      "cell_type": "code",
      "source": [
        "# Create an array of evenly spaced values with a specific number of elements\n",
        "arr = np.linspace(0, 1, 5)"
      ],
      "metadata": {
        "id": "CXeADITXfgBw"
      },
      "execution_count": null,
      "outputs": []
    }
  ]
}