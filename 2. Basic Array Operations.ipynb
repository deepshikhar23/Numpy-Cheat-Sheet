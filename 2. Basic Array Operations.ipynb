{
  "nbformat": 4,
  "nbformat_minor": 0,
  "metadata": {
    "colab": {
      "provenance": []
    },
    "kernelspec": {
      "name": "python3",
      "display_name": "Python 3"
    },
    "language_info": {
      "name": "python"
    }
  },
  "cells": [
    {
      "cell_type": "code",
      "source": [
        "# Select an element\n",
        "arr[0, 1]"
      ],
      "metadata": {
        "id": "vq0oswugax4R"
      },
      "execution_count": null,
      "outputs": []
    },
    {
      "cell_type": "code",
      "source": [
        "# Select a row\n",
        "arr[0, :]"
      ],
      "metadata": {
        "id": "Af7OqDqgfzpe"
      },
      "execution_count": null,
      "outputs": []
    },
    {
      "cell_type": "code",
      "source": [
        "# Select a column\n",
        "arr[:, 1]"
      ],
      "metadata": {
        "id": "cIFuKgS1f3Ch"
      },
      "execution_count": null,
      "outputs": []
    },
    {
      "cell_type": "code",
      "source": [
        "# Reshape an array\n",
        "arr.reshape((3, 2))"
      ],
      "metadata": {
        "id": "z6Rh4cwjf8UI"
      },
      "execution_count": null,
      "outputs": []
    },
    {
      "cell_type": "code",
      "source": [
        "# Transpose an array\n",
        "arr.T"
      ],
      "metadata": {
        "id": "eW32wOyZf_FA"
      },
      "execution_count": null,
      "outputs": []
    },
    {
      "cell_type": "code",
      "source": [
        "# Concatenate two arrays\n",
        "np.concatenate((arr1, arr2), axis=0)"
      ],
      "metadata": {
        "id": "LtJM08qIgCfm"
      },
      "execution_count": null,
      "outputs": []
    },
    {
      "cell_type": "code",
      "source": [
        "# Stack two arrays vertically\n",
        "np.vstack((arr1, arr2))"
      ],
      "metadata": {
        "id": "4LLUBUPBgGG7"
      },
      "execution_count": null,
      "outputs": []
    },
    {
      "cell_type": "code",
      "source": [
        "# Stack two arrays horizontally\n",
        "np.hstack((arr1, arr2))"
      ],
      "metadata": {
        "id": "HyM_PP7QgIjw"
      },
      "execution_count": null,
      "outputs": []
    },
    {
      "cell_type": "code",
      "source": [
        "# Apply a function to all elements of an array\n",
        "np.sin(arr)"
      ],
      "metadata": {
        "id": "_EdQ72Q6gKgT"
      },
      "execution_count": null,
      "outputs": []
    },
    {
      "cell_type": "code",
      "source": [
        "# Calculate the mean of an array\n",
        "np.mean(arr)"
      ],
      "metadata": {
        "id": "mPGb1wBzgMfa"
      },
      "execution_count": null,
      "outputs": []
    },
    {
      "cell_type": "code",
      "source": [
        "# Calculate the maximum value of an array\n",
        "np.max(arr)"
      ],
      "metadata": {
        "id": "0A9aNitngOiX"
      },
      "execution_count": null,
      "outputs": []
    },
    {
      "cell_type": "code",
      "source": [
        "# Calculate the minimum value of an array\n",
        "np.min(arr)"
      ],
      "metadata": {
        "id": "DANvNiUHgQZ5"
      },
      "execution_count": null,
      "outputs": []
    }
  ]
}