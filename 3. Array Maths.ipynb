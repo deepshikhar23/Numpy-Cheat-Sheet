{
  "nbformat": 4,
  "nbformat_minor": 0,
  "metadata": {
    "colab": {
      "provenance": []
    },
    "kernelspec": {
      "name": "python3",
      "display_name": "Python 3"
    },
    "language_info": {
      "name": "python"
    }
  },
  "cells": [
    {
      "cell_type": "code",
      "source": [
        "# Add two arrays\n",
        "arr1 + arr2"
      ],
      "metadata": {
        "id": "vq0oswugax4R"
      },
      "execution_count": null,
      "outputs": []
    },
    {
      "cell_type": "code",
      "source": [
        "# Subtract two arrays\n",
        "arr1 - arr2"
      ],
      "metadata": {
        "id": "V2yZctBCgilp"
      },
      "execution_count": null,
      "outputs": []
    },
    {
      "cell_type": "code",
      "source": [
        "# Multiply two arrays\n",
        "arr1 * arr2"
      ],
      "metadata": {
        "id": "6mZmC00Dglkc"
      },
      "execution_count": null,
      "outputs": []
    },
    {
      "cell_type": "code",
      "source": [
        "# Divide two arrays\n",
        "arr1 / arr2"
      ],
      "metadata": {
        "id": "KBgtAoJ_gn23"
      },
      "execution_count": null,
      "outputs": []
    },
    {
      "cell_type": "code",
      "source": [
        "# Dot product of two arrays\n",
        "np.dot(arr1, arr2)"
      ],
      "metadata": {
        "id": "OM2qNEz0gqXd"
      },
      "execution_count": null,
      "outputs": []
    },
    {
      "cell_type": "code",
      "source": [
        "# Element-wise product of two arrays\n",
        "arr1 * arr2"
      ],
      "metadata": {
        "id": "6QWsph3agubB"
      },
      "execution_count": null,
      "outputs": []
    },
    {
      "cell_type": "code",
      "source": [
        "# Calculate the inverse of a matrix\n",
        "np.linalg.inv(arr)"
      ],
      "metadata": {
        "id": "YU5CUIuKgwDS"
      },
      "execution_count": null,
      "outputs": []
    }
  ]
}