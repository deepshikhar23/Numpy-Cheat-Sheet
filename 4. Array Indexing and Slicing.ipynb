{
  "nbformat": 4,
  "nbformat_minor": 0,
  "metadata": {
    "colab": {
      "provenance": []
    },
    "kernelspec": {
      "name": "python3",
      "display_name": "Python 3"
    },
    "language_info": {
      "name": "python"
    }
  },
  "cells": [
    {
      "cell_type": "code",
      "source": [
        "# Select elements based on a condition\n",
        "arr[arr > 5]"
      ],
      "metadata": {
        "id": "vq0oswugax4R"
      },
      "execution_count": null,
      "outputs": []
    },
    {
      "cell_type": "code",
      "source": [
        "# Select elements from multiple arrays based on a condition\n",
        "np.where(condition, arr1, arr2)"
      ],
      "metadata": {
        "id": "PHgWtVX8g4ob"
      },
      "execution_count": null,
      "outputs": []
    },
    {
      "cell_type": "code",
      "source": [
        "# Select elements from an array using a list of indices\n",
        "arr[[1, 3, 5]]"
      ],
      "metadata": {
        "id": "Xqh0Lg3og69M"
      },
      "execution_count": null,
      "outputs": []
    },
    {
      "cell_type": "code",
      "source": [
        "# Select elements from an array using a boolean mask\n",
        "arr[mask]"
      ],
      "metadata": {
        "id": "1xd5_x2Ng9KI"
      },
      "execution_count": null,
      "outputs": []
    },
    {
      "cell_type": "code",
      "source": [
        "# Slice an array\n",
        "arr[start:end]"
      ],
      "metadata": {
        "id": "BuupXTqLg_fM"
      },
      "execution_count": null,
      "outputs": []
    },
    {
      "cell_type": "code",
      "source": [
        "# Slice an array with a step\n",
        "arr[start:end:step]"
      ],
      "metadata": {
        "id": "vrUfMak5hBNV"
      },
      "execution_count": null,
      "outputs": []
    },
    {
      "cell_type": "code",
      "source": [
        "# Reverse an array\n",
        "arr[::-1]"
      ],
      "metadata": {
        "id": "HrgqVLoihC3Z"
      },
      "execution_count": null,
      "outputs": []
    }
  ]
}