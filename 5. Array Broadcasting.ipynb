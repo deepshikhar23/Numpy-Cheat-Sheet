{
  "nbformat": 4,
  "nbformat_minor": 0,
  "metadata": {
    "colab": {
      "provenance": []
    },
    "kernelspec": {
      "name": "python3",
      "display_name": "Python 3"
    },
    "language_info": {
      "name": "python"
    }
  },
  "cells": [
    {
      "cell_type": "code",
      "source": [
        "# Add a scalar to an array\n",
        "arr + 1"
      ],
      "metadata": {
        "id": "vq0oswugax4R"
      },
      "execution_count": null,
      "outputs": []
    },
    {
      "cell_type": "code",
      "source": [
        "# Add an array to another array with a different shape\n",
        "arr1 + arr2.reshape((2, 1))"
      ],
      "metadata": {
        "id": "Kyx9AHYNhPUT"
      },
      "execution_count": null,
      "outputs": []
    },
    {
      "cell_type": "code",
      "source": [
        "# Multiply two arrays with different shapes\n",
        "arr1 * arr2.reshape((2, 1))"
      ],
      "metadata": {
        "id": "jFGs1GdJhRFF"
      },
      "execution_count": null,
      "outputs": []
    }
  ]
}